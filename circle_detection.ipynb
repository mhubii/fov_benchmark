{
 "cells": [
  {
   "cell_type": "markdown",
   "metadata": {},
   "source": [
    "# Deepseg Circle"
   ]
  },
  {
   "cell_type": "code",
   "execution_count": null,
   "metadata": {},
   "outputs": [],
   "source": [
    "import os\n",
    "import pandas as pd\n",
    "\n",
    "prefix = '<path_to>/fov_segmentation'\n",
    "\n",
    "df = pd.read_pickle(os.path.join(prefix, 'light_log.pkl'))\n",
    "test_df = df[df.test == True]\n",
    "test_df"
   ]
  },
  {
   "cell_type": "code",
   "execution_count": null,
   "metadata": {},
   "outputs": [],
   "source": [
    "import cv2\n",
    "import numpy as np\n",
    "from kornia import image_to_tensor, tensor_to_image\n",
    "from lightning_modules import ImageSegmentationModule\n",
    "\n",
    "from endoscopy import endoscopy\n",
    "from utils import load_yaml\n",
    "\n",
    "device = 'cuda' # 'cpu' for cpu exection\n",
    "\n",
    "# load model with default values\n",
    "checkpoint_prefix = 'checkpoints/resnet_34'\n",
    "checkpoint = 'epoch=35-step=1079.ckpt'\n",
    "\n",
    "config = load_yaml(os.path.join(prefix, checkpoint_prefix, 'config.yml'))\n",
    "\n",
    "model = ImageSegmentationModule(**config['model'])\n",
    "model = model.load_from_checkpoint(os.path.join(prefix, checkpoint_prefix, checkpoint), **config['model'])\n",
    "model = model.eval()\n",
    "model.freeze()\n",
    "model = model.to(device)\n",
    "\n",
    "for idx, row in test_df.iterrows():\n",
    "    # load and prepare data\n",
    "    img = np.load(os.path.join(prefix, row.image['folder'], row.image['file']))\n",
    "    seg_gt = np.load(os.path.join(prefix, row.segmentation['folder'], row.segmentation['file']))\n",
    "\n",
    "    # perform segmentation\n",
    "    img = image_to_tensor(img, keepdim=False)\n",
    "    img = img.to(model.device)\n",
    "    img = img.float()/255.\n",
    "    seg = model(img)\n",
    "\n",
    "    # to image\n",
    "    img = tensor_to_image(img, keepdim=False)\n",
    "    seg = tensor_to_image(seg, keepdim=False)\n",
    "\n",
    "    # detect circle\n",
    "    center, radius = endoscopy.ransacBoundaryCircle(seg*255, th=10, n_pts=100, n_iter=1, fit='numeric')\n",
    "    center, radius = center.astype(int), int(radius)\n",
    "\n",
    "    # show results\n",
    "    cv2.circle(img, (center[1], center[0]), radius, (0,255,255), 2)  \n",
    "\n",
    "    cv2.imshow('Segmentation', seg)\n",
    "    cv2.imshow('Endoscopic View', img)\n",
    "    cv2.waitKey()\n"
   ]
  }
 ],
 "metadata": {
  "interpreter": {
   "hash": "ff8180ad399e44164a2c4edc5e39d0e5285fe6b97c629f6ea4b58c1a4eb5027c"
  },
  "kernelspec": {
   "display_name": "Python 3.8.11 64-bit ('fov_benchmark': conda)",
   "name": "python3"
  },
  "language_info": {
   "codemirror_mode": {
    "name": "ipython",
    "version": 3
   },
   "file_extension": ".py",
   "mimetype": "text/x-python",
   "name": "python",
   "nbconvert_exporter": "python",
   "pygments_lexer": "ipython3",
   "version": "3.8.11"
  },
  "orig_nbformat": 4
 },
 "nbformat": 4,
 "nbformat_minor": 2
}
