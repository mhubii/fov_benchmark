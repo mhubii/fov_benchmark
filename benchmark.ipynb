{
 "cells": [
  {
   "cell_type": "markdown",
   "metadata": {},
   "source": [
    "# Test Data"
   ]
  },
  {
   "cell_type": "code",
   "execution_count": null,
   "metadata": {},
   "outputs": [],
   "source": [
    "import os\n",
    "import pandas as pd\n",
    "\n",
    "prefix = '<path_to>/fov_segmentation'\n",
    "\n",
    "df = pd.read_pickle(os.path.join(prefix, 'light_log.pkl'))\n",
    "test_df = df[df.test == True]\n",
    "test_df"
   ]
  },
  {
   "cell_type": "markdown",
   "metadata": {},
   "source": [
    "# Benchmark Endoseg"
   ]
  },
  {
   "cell_type": "code",
   "execution_count": null,
   "metadata": {},
   "outputs": [],
   "source": [
    "import time\n",
    "import numpy as np\n",
    "import endoseg\n",
    "\n",
    "from utils import IoU\n",
    "\n",
    "# load model with default values https://github.com/luiscarlosgph/endoseg/blob/25dc910836193f8cc5ccccaddd78e95aada46682/src/run.py#L45\n",
    "segmenter = endoseg.Segmenter(\n",
    "    min_hsv_thresh=[0, 0, 0], \n",
    "    max_hsv_thresh=[255, 255, 10], \n",
    "    deinterlace=False, denoise=True\n",
    ")\n",
    "\n",
    "# log df\n",
    "logs_endoseg = pd.DataFrame(columns=['time', 'iou'])\n",
    "\n",
    "for idx, row in test_df.iterrows():\n",
    "    # load and prepare data\n",
    "    img = np.load(os.path.join(prefix, row.image['folder'], row.image['file']))\n",
    "    seg_gt = np.load(os.path.join(prefix, row.segmentation['folder'], row.segmentation['file']))\n",
    "\n",
    "    # benchmark execution time\n",
    "    start = time.time()\n",
    "    seg = segmenter.segment(img)\n",
    "    execution_time = time.time() - start\n",
    "    \n",
    "    # benchmark iou\n",
    "    iou = IoU(seg, seg_gt)\n",
    "\n",
    "    # store logs\n",
    "    logs_endoseg = logs_endoseg.append(\n",
    "        {\n",
    "            'time': execution_time,\n",
    "            'iou': iou\n",
    "        }, ignore_index=True\n",
    "    )"
   ]
  },
  {
   "cell_type": "markdown",
   "metadata": {},
   "source": [
    "# Benchmark Deepseg"
   ]
  },
  {
   "cell_type": "code",
   "execution_count": null,
   "metadata": {},
   "outputs": [],
   "source": [
    "import time\n",
    "import numpy as np\n",
    "from kornia import image_to_tensor, tensor_to_image\n",
    "from lightning_modules import ImageSegmentationModule\n",
    "\n",
    "from utils import IoU, load_yaml\n",
    "\n",
    "device = 'cuda' # 'cpu' for cpu exection\n",
    "\n",
    "# load model with default values\n",
    "checkpoint_prefix = 'checkpoints/resnet_34'\n",
    "checkpoint = 'epoch=35-step=1079.ckpt'\n",
    "\n",
    "config = load_yaml(os.path.join(prefix, checkpoint_prefix, 'config.yml'))\n",
    "\n",
    "model = ImageSegmentationModule(**config['model'])\n",
    "model = model.load_from_checkpoint(os.path.join(prefix, checkpoint_prefix, checkpoint), **config['model'])\n",
    "model = model.eval()\n",
    "model.freeze()\n",
    "model = model.to(device)\n",
    "\n",
    "# log df\n",
    "logs_deepseg = pd.DataFrame(columns=['time', 'iou'])\n",
    "\n",
    "for idx, row in test_df.iterrows():\n",
    "    # load and prepare data\n",
    "    img = np.load(os.path.join(prefix, row.image['folder'], row.image['file']))\n",
    "    seg_gt = np.load(os.path.join(prefix, row.segmentation['folder'], row.segmentation['file']))\n",
    "\n",
    "    # benchmark execution time\n",
    "    start = time.time()\n",
    "    img = image_to_tensor(img, keepdim=False)\n",
    "    img = img.to(model.device)\n",
    "    img = img.float()/255.\n",
    "    seg = model(img)\n",
    "    execution_time = time.time() - start\n",
    "\n",
    "    # benchmark iou\n",
    "    seg = tensor_to_image(seg, keepdim=False)\n",
    "    iou = IoU(seg, seg_gt)\n",
    "\n",
    "    # store logs\n",
    "    logs_deepseg = logs_deepseg.append(\n",
    "        {\n",
    "            'time': execution_time,\n",
    "            'iou': iou\n",
    "        }, ignore_index=True\n",
    "    )"
   ]
  },
  {
   "cell_type": "code",
   "execution_count": null,
   "metadata": {},
   "outputs": [],
   "source": [
    "print('Endoseg: Execution time {:.4f} +/- {:.4f}, Rate {:.1f}, IoU: {:.3f} +/- {:.3f}'.format(\n",
    "        logs_endoseg.time.mean(), \n",
    "        logs_endoseg.time.std(), \n",
    "        1/logs_endoseg.time.mean(), \n",
    "        logs_endoseg.iou.mean(), \n",
    "        logs_endoseg.iou.std()\n",
    "    )\n",
    ")\n",
    "\n",
    "print('Deepseg: Execution time {:.4f} +/- {:.4f}, Rate {:.1f}, IoU: {:.3f} +/- {:.3f}'.format(\n",
    "        logs_deepseg.time.mean(), \n",
    "        logs_deepseg.time.std(), \n",
    "        1/logs_deepseg.time.mean(), \n",
    "        logs_deepseg.iou.mean(), \n",
    "        logs_deepseg.iou.std()\n",
    "    )\n",
    ")"
   ]
  },
  {
   "cell_type": "markdown",
   "metadata": {},
   "source": [
    "# Export Deepseg"
   ]
  },
  {
   "cell_type": "code",
   "execution_count": null,
   "metadata": {},
   "outputs": [],
   "source": [
    "import torch\n",
    "from lightning_modules import ImageSegmentationModule\n",
    "\n",
    "from utils import load_yaml\n",
    "\n",
    "device = 'cuda' # 'cpu' for cpu exection\n",
    "\n",
    "# load model with default values\n",
    "checkpoint_prefix = 'checkpoints/resnet_34'\n",
    "checkpoint = 'epoch=35-step=1079.ckpt'\n",
    "\n",
    "config = load_yaml(os.path.join(prefix, checkpoint_prefix, 'config.yml'))\n",
    "\n",
    "model = ImageSegmentationModule(**config['model'])\n",
    "model = model.load_from_checkpoint(os.path.join(prefix, checkpoint_prefix, checkpoint), **config['model'])\n",
    "\n",
    "script = model.to_torchscript(method='trace')\n",
    "torch.jit.save(script, 'module.pt')"
   ]
  },
  {
   "cell_type": "code",
   "execution_count": null,
   "metadata": {},
   "outputs": [],
   "source": []
  }
 ],
 "metadata": {
  "interpreter": {
   "hash": "ff8180ad399e44164a2c4edc5e39d0e5285fe6b97c629f6ea4b58c1a4eb5027c"
  },
  "kernelspec": {
   "display_name": "Python 3.8.11 64-bit ('fov_benchmark': conda)",
   "name": "python3"
  },
  "language_info": {
   "codemirror_mode": {
    "name": "ipython",
    "version": 3
   },
   "file_extension": ".py",
   "mimetype": "text/x-python",
   "name": "python",
   "nbconvert_exporter": "python",
   "pygments_lexer": "ipython3",
   "version": "3.8.11"
  },
  "orig_nbformat": 4
 },
 "nbformat": 4,
 "nbformat_minor": 2
}
